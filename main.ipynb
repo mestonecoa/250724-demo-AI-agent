{
 "cells": [
  {
   "cell_type": "code",
   "execution_count": 1,
   "id": "9da42307",
   "metadata": {},
   "outputs": [],
   "source": [
    "from dotenv import load_dotenv\n",
    "from pydantic import BaseModel\n",
    "from langchain_openai import ChatOpenAI\n",
    "from langchain_core.prompts import ChatPromptTemplate\n",
    "from langchain_core.output_parsers import PydanticOutputParser\n",
    "from langchain.agents import create_tool_calling_agent, AgentExecutor\n",
    "from tools import duckduckgo_tool, wiki_tool, save_tool"
   ]
  },
  {
   "cell_type": "code",
   "execution_count": 2,
   "id": "5a45fb90",
   "metadata": {},
   "outputs": [
    {
     "data": {
      "text/plain": [
       "True"
      ]
     },
     "execution_count": 2,
     "metadata": {},
     "output_type": "execute_result"
    }
   ],
   "source": [
    "load_dotenv()"
   ]
  },
  {
   "cell_type": "code",
   "execution_count": 3,
   "id": "e79a5018",
   "metadata": {},
   "outputs": [
    {
     "name": "stdout",
     "output_type": "stream",
     "text": [
      "\"Gravity,\" \"Slow Dancing in a Burning Room,\" \"Your Body Is a Wonderland\"\n"
     ]
    }
   ],
   "source": [
    "llm = ChatOpenAI(model=\"gpt-4o\", temperature=0.3, max_tokens=1000)\n",
    "response = llm.invoke(\"What is John Mayer's three most popular song? - Answer the title only. Separated with a comma.\")\n",
    "print(response.content)"
   ]
  },
  {
   "cell_type": "code",
   "execution_count": 4,
   "id": "7b9c7145",
   "metadata": {},
   "outputs": [
    {
     "name": "stdout",
     "output_type": "stream",
     "text": [
      "\n",
      "\n",
      "\u001b[1m> Entering new AgentExecutor chain...\u001b[0m\n",
      "\u001b[32;1m\u001b[1;3m{\"title\": \"John Mayer's Most Popular Song\", \"summary\": \"John Mayer's most popular song is often considered to be \\\"Gravity.\\\" This song, released as part of his album \\\"Continuum\\\" in 2006, has received widespread acclaim and is frequently highlighted in his live performances. It showcases Mayer's guitar skills and has become a staple in his music repertoire.\", \"sources\": [\"https://www.billboard.com/music/john-mayer\"], \"tools_used\": []}\u001b[0m\n",
      "\n",
      "\u001b[1m> Finished chain.\u001b[0m\n",
      "{'query': \"What is John Mayer's most popular song?\", 'output': '{\"title\": \"John Mayer\\'s Most Popular Song\", \"summary\": \"John Mayer\\'s most popular song is often considered to be \\\\\"Gravity.\\\\\" This song, released as part of his album \\\\\"Continuum\\\\\" in 2006, has received widespread acclaim and is frequently highlighted in his live performances. It showcases Mayer\\'s guitar skills and has become a staple in his music repertoire.\", \"sources\": [\"https://www.billboard.com/music/john-mayer\"], \"tools_used\": []}'}\n"
     ]
    }
   ],
   "source": [
    "llm = ChatOpenAI(model=\"gpt-4o\", temperature=0.3, max_tokens=1000)\n",
    "\n",
    "class ResearchResponse(BaseModel):\n",
    "    title: str\n",
    "    summary: str\n",
    "    sources: list[str]\n",
    "    tools_used: list[str]\n",
    "\n",
    "parser = PydanticOutputParser(pydantic_object=ResearchResponse)\n",
    "\n",
    "prompt = ChatPromptTemplate.from_messages(\n",
    "    [\n",
    "        (\"system\",\n",
    "         \"\"\"\n",
    "        You are a research assitant that will help generate a research paper.\n",
    "        Answer the user query and use neccessary tools.\n",
    "        Wrap the output in this format and provide no other text\\n{format_instructions}\n",
    "         \"\"\"\n",
    "        ),\n",
    "        (\"placeholder\", \"{chat_history}\"),\n",
    "        (\"human\", \"{query}\"),\n",
    "        (\"placeholder\", \"{agent_scratchpad}\")\n",
    "\n",
    "    ]\n",
    ").partial(format_instructions=parser.get_format_instructions())\n",
    "\n",
    "agent = create_tool_calling_agent(\n",
    "    llm=llm,\n",
    "    prompt=prompt,\n",
    "    tools = []\n",
    ")\n",
    "\n",
    "# AgentExecutor will automatically handle chat_history and agent_scratchpad\n",
    "executor = AgentExecutor(agent=agent, tools=[], verbose=True) # verbose is to see the agent's thought process\n",
    "\n",
    "raw_response = executor.invoke({\"query\": \"What is John Mayer's most popular song?\"})\n",
    "print(raw_response)\n",
    "\n"
   ]
  },
  {
   "cell_type": "code",
   "execution_count": 5,
   "id": "f5a5527d",
   "metadata": {},
   "outputs": [
    {
     "name": "stdout",
     "output_type": "stream",
     "text": [
      "\n",
      "\n",
      "\u001b[1m> Entering new AgentExecutor chain...\u001b[0m\n",
      "\u001b[32;1m\u001b[1;3m\n",
      "Invoking: `wikipedia` with `{'query': 'John Mayer'}`\n",
      "\n",
      "\n",
      "\u001b[0m\u001b[33;1m\u001b[1;3mPage: John Mayer\n",
      "Summary: John Clayton Mayer ( MAY-ər; born October 16, 1977) is an American singer,\u001b[0m\u001b[32;1m\u001b[1;3m\n",
      "Invoking: `DuckDuckGo` with `John Mayer most famous songs`\n",
      "\n",
      "\n",
      "\u001b[0m\u001b[36;1m\u001b[1;3mJohn 起源于《新约圣经》里的人物 John the Baptist （基督教和合本译为 施洗约翰，天主教译为 圣若翰洗者）。施洗约翰 … 为什么「约翰」成为了 John 的主流译名？ 其实情况和「大卫」「彼得」类似，这些和《圣经》有关的名字，在规范的译音标 … john是什么意思？john有两种意思，一种是作为名词，有几种含义盥洗室,厕所，男人；傻瓜，糊涂虫，嫖客，警察等；另一 … Name: John Doe Jr. First Name: John Last Name: Doe Suffix: Jr. - - - - - If you only see a single name and you're not sure … first name 是名字，last name是姓。Mary, John是一个人的名字，他们经常把名放前面（first name ），而姓放后面 (last …\u001b[0m"
     ]
    },
    {
     "name": "stderr",
     "output_type": "stream",
     "text": [
      "/Users/junicso/250724-demo-AI-agent/venv/lib/python3.11/site-packages/langchain_community/utilities/duckduckgo_search.py:63: RuntimeWarning: This package (`duckduckgo_search`) has been renamed to `ddgs`! Use `pip install ddgs` instead.\n",
      "  with DDGS() as ddgs:\n"
     ]
    },
    {
     "name": "stdout",
     "output_type": "stream",
     "text": [
      "\u001b[32;1m\u001b[1;3m\n",
      "Invoking: `save_text_to_file` with `John Mayer is an American singer-songwriter known for his blues-inspired guitar playing and smooth vocals. Some of his most famous songs include \"Your Body Is a Wonderland,\" \"Gravity,\" \"Slow Dancing in a Burning Room,\" \"Waiting on the World to Change,\" and \"Daughters.\" Mayer has won several Grammy Awards and is recognized for his contributions to contemporary music.`\n",
      "\n",
      "\n",
      "\u001b[0m\u001b[38;5;200m\u001b[1;3mData saved to research_output.txt\u001b[0m\u001b[32;1m\u001b[1;3m```json\n",
      "{\n",
      "    \"title\": \"John Mayer's Most Famous Songs\",\n",
      "    \"summary\": \"John Mayer is an American singer-songwriter known for his blues-inspired guitar playing and smooth vocals. Some of his most famous songs include \\\"Your Body Is a Wonderland,\\\" \\\"Gravity,\\\" \\\"Slow Dancing in a Burning Room,\\\" \\\"Waiting on the World to Change,\\\" and \\\"Daughters.\\\" Mayer has won several Grammy Awards and is recognized for his contributions to contemporary music.\",\n",
      "    \"sources\": [\n",
      "        \"Wikipedia\",\n",
      "        \"DuckDuckGo\"\n",
      "    ],\n",
      "    \"tools_used\": [\n",
      "        \"functions.wikipedia\",\n",
      "        \"functions.DuckDuckGo\",\n",
      "        \"functions.save_text_to_file\"\n",
      "    ]\n",
      "}\n",
      "```\u001b[0m\n",
      "\n",
      "\u001b[1m> Finished chain.\u001b[0m\n",
      "{'query': \"What are John Mayer's most famous songs? Save output.\", 'output': '```json\\n{\\n    \"title\": \"John Mayer\\'s Most Famous Songs\",\\n    \"summary\": \"John Mayer is an American singer-songwriter known for his blues-inspired guitar playing and smooth vocals. Some of his most famous songs include \\\\\"Your Body Is a Wonderland,\\\\\" \\\\\"Gravity,\\\\\" \\\\\"Slow Dancing in a Burning Room,\\\\\" \\\\\"Waiting on the World to Change,\\\\\" and \\\\\"Daughters.\\\\\" Mayer has won several Grammy Awards and is recognized for his contributions to contemporary music.\",\\n    \"sources\": [\\n        \"Wikipedia\",\\n        \"DuckDuckGo\"\\n    ],\\n    \"tools_used\": [\\n        \"functions.wikipedia\",\\n        \"functions.DuckDuckGo\",\\n        \"functions.save_text_to_file\"\\n    ]\\n}\\n```'}\n"
     ]
    }
   ],
   "source": [
    "llm = ChatOpenAI(model=\"gpt-4o\", temperature=0.3)\n",
    "\n",
    "class ResearchResponse(BaseModel):\n",
    "    title: str\n",
    "    summary: str\n",
    "    sources: list[str]\n",
    "    tools_used: list[str]\n",
    "\n",
    "parser = PydanticOutputParser(pydantic_object=ResearchResponse)\n",
    "\n",
    "prompt = ChatPromptTemplate.from_messages(\n",
    "    [\n",
    "        (\"system\",\n",
    "         \"\"\"\n",
    "        You are a research assitant that will help generate a research paper.\n",
    "        Answer the user query and use neccessary tools.\n",
    "        Wrap the output in this format and provide no other text\\n{format_instructions}\n",
    "         \"\"\"\n",
    "        ),\n",
    "        (\"placeholder\", \"{chat_history}\"),\n",
    "        (\"human\", \"{query}\"),\n",
    "        (\"placeholder\", \"{agent_scratchpad}\")\n",
    "\n",
    "    ]\n",
    ").partial(format_instructions=parser.get_format_instructions())\n",
    "\n",
    "tools = [duckduckgo_tool, wiki_tool, save_tool]\n",
    "agent = create_tool_calling_agent(\n",
    "    llm=llm,\n",
    "    prompt=prompt,\n",
    "    tools = tools\n",
    ")\n",
    "\n",
    "# AgentExecutor will automatically handle chat_history and agent_scratchpad\n",
    "executor = AgentExecutor(agent=agent, tools=tools, verbose=True) # verbose is to see the agent's thought process\n",
    "query = input(\"What can I help you research?\")\n",
    "raw_response = executor.invoke({\"query\": query})\n",
    "\n",
    "print(raw_response)"
   ]
  },
  {
   "cell_type": "code",
   "execution_count": null,
   "id": "3b54b9a2",
   "metadata": {},
   "outputs": [],
   "source": []
  }
 ],
 "metadata": {
  "kernelspec": {
   "display_name": "venv",
   "language": "python",
   "name": "python3"
  },
  "language_info": {
   "codemirror_mode": {
    "name": "ipython",
    "version": 3
   },
   "file_extension": ".py",
   "mimetype": "text/x-python",
   "name": "python",
   "nbconvert_exporter": "python",
   "pygments_lexer": "ipython3",
   "version": "3.11.0"
  }
 },
 "nbformat": 4,
 "nbformat_minor": 5
}
